{
 "cells": [
  {
   "cell_type": "code",
   "execution_count": 1,
   "id": "d8d43458-b893-4396-ab34-7fc259c2dd75",
   "metadata": {},
   "outputs": [
    {
     "name": "stdout",
     "output_type": "stream",
     "text": [
      "accuracy: 0.9722222222222222\n"
     ]
    },
    {
     "data": {
      "text/plain": [
       "['KNN-Handwritten-Written-Digits.sav']"
      ]
     },
     "execution_count": 1,
     "metadata": {},
     "output_type": "execute_result"
    }
   ],
   "source": [
    "from sklearn.datasets import load_digits\n",
    "#load_digits is the function used to load the digits dataset from sklearn module\n",
    "dataset=load_digits()\n",
    "\n",
    "\n",
    "\n",
    "\n",
    "data=dataset.data\n",
    "target=dataset.target\n",
    "images=dataset.images\n",
    "\n",
    "\n",
    "import cv2\n",
    "\n",
    "ret,data=cv2.threshold(data,7,15,cv2.THRESH_BINARY)\n",
    "ret,images=cv2.threshold(images,7,15,cv2.THRESH_BINARY)\n",
    "\n",
    "\n",
    "from sklearn.model_selection import train_test_split\n",
    "\n",
    "train_data,test_data,train_target,test_target=train_test_split(data,target,test_size=0.1)\n",
    "\n",
    "from sklearn.neighbors import KNeighborsClassifier\n",
    "\n",
    "model=KNeighborsClassifier()\n",
    "model.fit(train_data,train_target)\n",
    "\n",
    "\n",
    "predicted_target=model.predict(test_data)\n",
    "\n",
    "from sklearn.metrics import accuracy_score\n",
    "\n",
    "acc=accuracy_score(test_target,predicted_target)\n",
    "\n",
    "print('accuracy:',acc)\n",
    "\n",
    "\n",
    "import joblib\n",
    "\n",
    "joblib.dump(model,'KNN-Handwritten-Written-Digits.sav')\n",
    "\n",
    "\n",
    "# In[ ]:\n",
    "\n",
    "\n",
    "\n",
    "\n"
   ]
  },
  {
   "cell_type": "code",
   "execution_count": null,
   "id": "3c682bf6-cd95-4086-989d-b36be605e3f8",
   "metadata": {},
   "outputs": [],
   "source": []
  }
 ],
 "metadata": {
  "kernelspec": {
   "display_name": "Python 3 (ipykernel)",
   "language": "python",
   "name": "python3"
  },
  "language_info": {
   "codemirror_mode": {
    "name": "ipython",
    "version": 3
   },
   "file_extension": ".py",
   "mimetype": "text/x-python",
   "name": "python",
   "nbconvert_exporter": "python",
   "pygments_lexer": "ipython3",
   "version": "3.12.4"
  }
 },
 "nbformat": 4,
 "nbformat_minor": 5
}
